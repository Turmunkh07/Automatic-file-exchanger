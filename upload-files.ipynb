{
 "cells": [
  {
   "cell_type": "code",
   "execution_count": 29,
   "metadata": {},
   "outputs": [],
   "source": [
    "from selenium import webdriver\n",
    "from selenium.webdriver.chrome.service import Service\n",
    "from webdriver_manager.chrome import ChromeDriverManager\n",
    "from selenium.webdriver.common.by import By\n",
    "import time\n",
    "import pyautogui"
   ]
  },
  {
   "cell_type": "code",
   "execution_count": 30,
   "metadata": {},
   "outputs": [
    {
     "ename": "KeyboardInterrupt",
     "evalue": "",
     "output_type": "error",
     "traceback": [
      "\u001b[1;31m---------------------------------------------------------------------------\u001b[0m",
      "\u001b[1;31mKeyboardInterrupt\u001b[0m                         Traceback (most recent call last)",
      "Cell \u001b[1;32mIn[30], line 22\u001b[0m\n\u001b[0;32m     20\u001b[0m pyautogui\u001b[39m.\u001b[39mtypewrite(file_path)\n\u001b[0;32m     21\u001b[0m pyautogui\u001b[39m.\u001b[39mpress(\u001b[39m'\u001b[39m\u001b[39menter\u001b[39m\u001b[39m'\u001b[39m)\n\u001b[1;32m---> 22\u001b[0m time\u001b[39m.\u001b[39;49msleep(\u001b[39m10\u001b[39;49m)\n\u001b[0;32m     23\u001b[0m tiny_dwnld \u001b[39m=\u001b[39m driver\u001b[39m.\u001b[39mfind_element(By\u001b[39m.\u001b[39mXPATH, \u001b[39m'\u001b[39m\u001b[39m//*[@id=\u001b[39m\u001b[39m\"\u001b[39m\u001b[39mApp-DownloadLink\u001b[39m\u001b[39m\"\u001b[39m\u001b[39m]\u001b[39m\u001b[39m'\u001b[39m)\n\u001b[0;32m     24\u001b[0m tiny_dwnld\u001b[39m.\u001b[39mclick()\n",
      "\u001b[1;31mKeyboardInterrupt\u001b[0m: "
     ]
    }
   ],
   "source": [
    "# Provide the path to the ChromeDriver executable\n",
    "chrome_driver_path = './chromedriver.exe'\n",
    "\n",
    "# Create a service object for the ChromeDriver\n",
    "service = Service(chrome_driver_path)\n",
    "\n",
    "# Create the Chrome WebDriver instance using the service\n",
    "driver = webdriver.Chrome(service=service)\n",
    "\n",
    "driver.implicitly_wait(15)\n",
    "driver.get('https://vectorizer.ai/')\n",
    "\n",
    "upload_file = driver.find_element(By.XPATH, '//*[@id=\"app-starter-drop-zone\"]')\n",
    "\n",
    "for i in range(1, 85, 1):\n",
    "    upload_file.click()\n",
    "    time.sleep(2)\n",
    "\n",
    "    file_path = f\"C:\\\\Users\\\\User\\\\Desktop\\\\currently-working-on\\\\icons\\\\icons\\\\{i}.png\"\n",
    "    pyautogui.typewrite(file_path)\n",
    "    pyautogui.press('enter')\n",
    "    time.sleep(10)\n",
    "    tiny_dwnld = driver.find_element(By.XPATH, '//*[@id=\"App-DownloadLink\"]')\n",
    "    tiny_dwnld.click()\n",
    "    time.sleep(3)\n",
    "    png_radio = driver.find_element(By.XPATH, '//*[@id=\"file_format_png\"]')\n",
    "    png_radio.click()\n",
    "    dwnld_btn = driver.find_element(By.XPATH, '//*[@id=\"main\"]/div[2]/div[2]/div/div[1]/div[2]/form/fieldset/div[2]/button')\n",
    "    dwnld_btn.click()\n",
    "    time.sleep(2)\n",
    "    upload_file = driver.find_element(By.XPATH, '//*[@id=\"app-starter-drop-zone\"]/div[2]/div/span[1]/button/div') #pick image to vectorize"
   ]
  }
 ],
 "metadata": {
  "kernelspec": {
   "display_name": "Python 3",
   "language": "python",
   "name": "python3"
  },
  "language_info": {
   "codemirror_mode": {
    "name": "ipython",
    "version": 3
   },
   "file_extension": ".py",
   "mimetype": "text/x-python",
   "name": "python",
   "nbconvert_exporter": "python",
   "pygments_lexer": "ipython3",
   "version": "3.10.11"
  },
  "orig_nbformat": 4
 },
 "nbformat": 4,
 "nbformat_minor": 2
}
