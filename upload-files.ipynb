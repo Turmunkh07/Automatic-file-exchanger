{
 "cells": [
  {
   "cell_type": "code",
   "execution_count": 59,
   "metadata": {},
   "outputs": [],
   "source": [
    "from selenium import webdriver\n",
    "from selenium.webdriver.chrome.service import Service\n",
    "from webdriver_manager.chrome import ChromeDriverManager\n",
    "from selenium.webdriver.common.by import By\n",
    "import time\n",
    "import pyautogui"
   ]
  },
  {
   "cell_type": "code",
   "execution_count": 60,
   "metadata": {},
   "outputs": [],
   "source": [
    "# Provide the path to the ChromeDriver executable\n",
    "chrome_driver_path = './chromedriver.exe'\n",
    "\n",
    "# Create a service object for the ChromeDriver\n",
    "service = Service(chrome_driver_path)\n",
    "\n",
    "# Create the Chrome WebDriver instance using the service\n",
    "driver = webdriver.Chrome(service=service)\n",
    "\n",
    "driver.implicitly_wait(15)\n",
    "driver.get('https://vectorizer.ai/')\n",
    "\n",
    "upload_file = driver.find_element(By.XPATH, '//*[@id=\"app-starter-drop-zone\"]')\n",
    "\n",
    "# upload_file.send_keys(r'C:\\Users\\User\\Desktop\\icons\\icons\\icons8-api-64.png')\n",
    "\n",
    "upload_file.click()\n",
    "time.sleep(3)\n",
    "pyautogui.typewrite(r'C:\\Users\\User\\Desktop\\currently-working-on\\icons\\icons\\1.png')\n",
    "pyautogui.press('enter')"
   ]
  },
  {
   "cell_type": "code",
   "execution_count": 61,
   "metadata": {},
   "outputs": [],
   "source": [
    "link_element = driver.find_element(By.XPATH, '//*[@id=\"App-DownloadLink\"]')\n",
    "time.sleep(3)\n",
    "link_element.click()\n",
    "time.sleep(3)\n",
    "\n",
    "png_radio = driver.find_element(By.XPATH, '//*[@id=\"file_format_png\"]')\n",
    "png_radio.click()\n",
    "\n",
    "download_btn_final = driver.find_element(By.XPATH, '//*[@id=\"main\"]/div[2]/div[2]/div/div[1]/div[2]/form/fieldset/div[2]/button/span')\n",
    "time.sleep(1)\n",
    "download_btn_final.click()"
   ]
  }
 ],
 "metadata": {
  "kernelspec": {
   "display_name": "Python 3",
   "language": "python",
   "name": "python3"
  },
  "language_info": {
   "codemirror_mode": {
    "name": "ipython",
    "version": 3
   },
   "file_extension": ".py",
   "mimetype": "text/x-python",
   "name": "python",
   "nbconvert_exporter": "python",
   "pygments_lexer": "ipython3",
   "version": "3.10.11"
  },
  "orig_nbformat": 4
 },
 "nbformat": 4,
 "nbformat_minor": 2
}
